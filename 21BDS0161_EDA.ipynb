{
  "nbformat": 4,
  "nbformat_minor": 0,
  "metadata": {
    "colab": {
      "provenance": [],
      "authorship_tag": "ABX9TyOg5ZlRgtcZ6hLCNzOxsWeT",
      "include_colab_link": true
    },
    "kernelspec": {
      "name": "python3",
      "display_name": "Python 3"
    },
    "language_info": {
      "name": "python"
    }
  },
  "cells": [
    {
      "cell_type": "markdown",
      "metadata": {
        "id": "view-in-github",
        "colab_type": "text"
      },
      "source": [
        "<a href=\"https://colab.research.google.com/github/VIGNESHPERNI/EDA_21BDS0161/blob/main/21BDS0161_EDA.ipynb\" target=\"_parent\"><img src=\"https://colab.research.google.com/assets/colab-badge.svg\" alt=\"Open In Colab\"/></a>"
      ]
    },
    {
      "cell_type": "code",
      "execution_count": 3,
      "metadata": {
        "id": "usrAbXEOiRfH",
        "outputId": "dd743660-989c-4178-d3f1-007a03780e21",
        "colab": {
          "base_uri": "https://localhost:8080/"
        }
      },
      "outputs": [
        {
          "output_type": "stream",
          "name": "stdout",
          "text": [
            "21BDS0161\n",
            "Kranthi Vignesh Perni\n"
          ]
        }
      ],
      "source": [
        "print(\"21BDS0161\")\n",
        "print(\"Kranthi Vignesh Perni\")"
      ]
    },
    {
      "cell_type": "code",
      "source": [
        "import pandas as pd\n",
        "import numpy as np\n",
        "import seaborn as sns\n",
        "import matplotlib.pyplot as plt\n",
        "data = pd.read_csv('engin.csv')\n",
        "print(data.shape)\n",
        "print(data.info())\n",
        "print(data.describe())\n",
        "print(data.head())"
      ],
      "metadata": {
        "id": "4kujn1bekbet",
        "outputId": "7eb30820-9413-40c9-ee45-79068763b5a6",
        "colab": {
          "base_uri": "https://localhost:8080/"
        }
      },
      "execution_count": 4,
      "outputs": [
        {
          "output_type": "stream",
          "name": "stdout",
          "text": [
            "(403, 18)\n",
            "<class 'pandas.core.frame.DataFrame'>\n",
            "RangeIndex: 403 entries, 0 to 402\n",
            "Data columns (total 18 columns):\n",
            " #   Column    Non-Null Count  Dtype  \n",
            "---  ------    --------------  -----  \n",
            " 0   rownames  403 non-null    int64  \n",
            " 1   male      403 non-null    int64  \n",
            " 2   educ      403 non-null    int64  \n",
            " 3   wage      403 non-null    int64  \n",
            " 4   swage     403 non-null    int64  \n",
            " 5   exper     403 non-null    int64  \n",
            " 6   pexper    403 non-null    int64  \n",
            " 7   lwage     403 non-null    float64\n",
            " 8   expersq   403 non-null    int64  \n",
            " 9   highgrad  403 non-null    int64  \n",
            " 10  college   403 non-null    int64  \n",
            " 11  grad      403 non-null    int64  \n",
            " 12  polytech  403 non-null    int64  \n",
            " 13  highdrop  403 non-null    int64  \n",
            " 14  lswage    403 non-null    float64\n",
            " 15  pexpersq  403 non-null    int64  \n",
            " 16  mleeduc   403 non-null    int64  \n",
            " 17  mleeduc0  403 non-null    int64  \n",
            "dtypes: float64(2), int64(16)\n",
            "memory usage: 56.8 KB\n",
            "None\n",
            "         rownames        male        educ           wage         swage  \\\n",
            "count  403.000000  403.000000  403.000000     403.000000    403.000000   \n",
            "mean   202.000000    0.528536   13.732010   34683.436725  17158.027295   \n",
            "std    116.480327    0.499806    2.774734   17041.548694   7628.793528   \n",
            "min      1.000000    0.000000    8.000000   15900.000000   9750.000000   \n",
            "25%    101.500000    0.000000   12.000000   24150.000000  12375.000000   \n",
            "50%    202.000000    1.000000   14.000000   28500.000000  15000.000000   \n",
            "75%    302.500000    1.000000   15.000000   37800.000000  18000.000000   \n",
            "max    403.000000    1.000000   20.000000  103750.000000  60000.000000   \n",
            "\n",
            "            exper      pexper       lwage     expersq    highgrad     college  \\\n",
            "count  403.000000  403.000000  403.000000  403.000000  403.000000  403.000000   \n",
            "mean    13.513648   11.310174   10.363192  185.677419    0.411911    0.119107   \n",
            "std      1.751101   10.476012    0.401836   47.547360    0.492791    0.324317   \n",
            "min      6.000000    0.000000    9.674074   36.000000    0.000000    0.000000   \n",
            "25%     12.000000    3.000000   10.092040  144.000000    0.000000    0.000000   \n",
            "50%     14.000000    8.000000   10.257659  196.000000    0.000000    0.000000   \n",
            "75%     15.000000   17.000000   10.540065  225.000000    1.000000    0.000000   \n",
            "max     17.000000   40.000000   11.549740  289.000000    1.000000    1.000000   \n",
            "\n",
            "             grad    polytech    highdrop      lswage     pexpersq  \\\n",
            "count  403.000000  403.000000  403.000000  403.000000   403.000000   \n",
            "mean     0.119107    0.270471    0.079404    9.678186   237.394541   \n",
            "std      0.324317    0.444756    0.270705    0.355112   363.082718   \n",
            "min      0.000000    0.000000    0.000000    9.185022     0.000000   \n",
            "25%      0.000000    0.000000    0.000000    9.423415     9.000000   \n",
            "50%      0.000000    0.000000    0.000000    9.615806    64.000000   \n",
            "75%      0.000000    1.000000    0.000000    9.798127   289.000000   \n",
            "max      1.000000    1.000000    1.000000   11.002100  1600.000000   \n",
            "\n",
            "          mleeduc    mleeduc0  \n",
            "count  403.000000  403.000000  \n",
            "mean     7.945409    0.545906  \n",
            "std      7.758609    2.002424  \n",
            "min      0.000000   -6.000000  \n",
            "25%      0.000000    0.000000  \n",
            "50%     12.000000    0.000000  \n",
            "75%     15.000000    1.000000  \n",
            "max     20.000000    6.000000  \n",
            "   rownames  male  educ   wage  swage  exper  pexper      lwage  expersq  \\\n",
            "0         1     0    12  20400  11250      6       0   9.923290       36   \n",
            "1         2     0    12  23850  12750     12       3  10.079539      144   \n",
            "2         3     0    12  22800  11250     12       0  10.034515      144   \n",
            "3         4     0    12  20700  11250     12       0   9.937889      144   \n",
            "4         5     0    12  21300  11250     12       1   9.966462      144   \n",
            "\n",
            "   highgrad  college  grad  polytech  highdrop    lswage  pexpersq  mleeduc  \\\n",
            "0         1        0     0         0         0  9.328123         0        0   \n",
            "1         1        0     0         0         0  9.453286         9        0   \n",
            "2         1        0     0         0         0  9.328123         0        0   \n",
            "3         1        0     0         0         0  9.328123         0        0   \n",
            "4         1        0     0         0         0  9.328123         1        0   \n",
            "\n",
            "   mleeduc0  \n",
            "0         0  \n",
            "1         0  \n",
            "2         0  \n",
            "3         0  \n",
            "4         0  \n"
          ]
        }
      ]
    },
    {
      "cell_type": "code",
      "source": [],
      "metadata": {
        "id": "0PFmVoplkpAj"
      },
      "execution_count": null,
      "outputs": []
    }
  ]
}